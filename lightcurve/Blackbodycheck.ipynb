import numpy as np
import matplotlib.pyplot as plt
h = 6.63e-34
c = 3e8
k = 1.38e-23
lr = np.linspace(.2,100,1000)
l = lr*1e-6


import matplotlib.pyplot as plt
import numpy as np
import matplotlib.pyplot as plt
import csv
with open('particles.csv', newline='') as csvfile:
    reader = csv.DictReader(csvfile)
    r = np.array([])
    for row in reader:
        if float(row['a']) > 0:
            a = row['a']
            r = np.append(r,float(a))
sig = 5.6e-8
Ls = 0.2646*3.839e26
Ab = 0
tem = np.array([])
for i in r:
    t = (Ls/sig/16/np.pi/(1-Ab)/((i*1.5e11)**2))**(1/4)
    tem = np.append(tem,t)
def L(l):
    s = 10000
    lu = np.array([])
    
    for i in l:
        l1 = 0
        for j in tem:
            bv = 2*h*(c/i)**3/(c**2)/(np.exp(h*(c/i)/k/j)-1)
            l1 += 4*np.pi**2*s**2*bv
        lu = np.append(lu,l1)
    return lu
def Lsb(l):
    rs = 6.957e8*.778
    lu = np.array([])
    for i in l:
        bv = 2*h*(c/i)**3/(c**2)/(np.exp(h*(c/i)/k/4699)-1)
        lv = 4*np.pi*rs**2*bv
        lu = np.append(lu,lv)
    return lu
ls = Lsb(l)
ast = L(l)
d = 21.35*9.46e15
fluxa = ast/4/np.pi/d/d
fluxl = ls/4/np.pi/d/d
